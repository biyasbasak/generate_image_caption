{
 "metadata": {
  "language_info": {
   "codemirror_mode": {
    "name": "ipython",
    "version": 3
   },
   "file_extension": ".py",
   "mimetype": "text/x-python",
   "name": "python",
   "nbconvert_exporter": "python",
   "pygments_lexer": "ipython3",
   "version": "3.8.5-final"
  },
  "orig_nbformat": 2,
  "kernelspec": {
   "name": "python3",
   "display_name": "Python 3.8.5 64-bit",
   "metadata": {
    "interpreter": {
     "hash": "2db524e06e9f5f4ffedc911c917cb75e12dbc923643829bf417064a77eb14d37"
    }
   }
  }
 },
 "nbformat": 4,
 "nbformat_minor": 2,
 "cells": [
  {
   "cell_type": "code",
   "execution_count": 11,
   "metadata": {},
   "outputs": [],
   "source": [
    "import pandas as pd\n",
    "import numpy as np\n",
    "from collections import defaultdict\n",
    "from nltk.corpus import stopwords\n",
    "stop_words = set(stopwords.words('english'))"
   ]
  },
  {
   "cell_type": "code",
   "execution_count": 5,
   "metadata": {},
   "outputs": [],
   "source": [
    "df = pd.read_csv(\"captions.txt\")"
   ]
  },
  {
   "cell_type": "code",
   "execution_count": 6,
   "metadata": {},
   "outputs": [],
   "source": [
    "images = df.iloc[:, 0]\n",
    "captions = df.iloc[:, 1]\n"
   ]
  },
  {
   "cell_type": "code",
   "execution_count": 16,
   "metadata": {},
   "outputs": [
    {
     "output_type": "stream",
     "name": "stdout",
     "text": [
      "0    child pink dress climbing set stairs entry way\n1                        girl going wooden building\n2             little girl climbing wooden playhouse\n3             little girl climbing stairs playhouse\n4         little girl pink dress going wooden cabin\nName: caption, dtype: object\n"
     ]
    }
   ],
   "source": [
    "#### preprocess the captions #######\n",
    "for i, caption in enumerate(captions):\n",
    "    _caption = caption.lower()\n",
    "    tokens = _caption.split()\n",
    "    tokens = [word for word in tokens if not word in stop_words]\n",
    "    # token length greater than one. removes dangling characters\n",
    "    tokens = [word for word in tokens if len(word)>1]\n",
    "    # remove tokens with numbers in them\n",
    "    tokens = [word for word in tokens if word.isalpha()]\n",
    "    captions[i] = \" \".join(tokens)\n",
    "\n",
    "\n",
    "print(captions[0:5])"
   ]
  },
  {
   "cell_type": "code",
   "execution_count": 20,
   "metadata": {
    "tags": []
   },
   "outputs": [
    {
     "output_type": "stream",
     "name": "stdout",
     "text": [
      "8247\n"
     ]
    }
   ],
   "source": [
    "#### Create a vocabulary from the captions #####\n",
    "\n",
    "vocabulary = set()\n",
    "\n",
    "for caption in captions:\n",
    "    tokens = caption.split(\" \")\n",
    "    for token in tokens:\n",
    "        vocabulary.add(token)\n",
    "\n",
    "print(len(vocabulary))"
   ]
  },
  {
   "cell_type": "code",
   "execution_count": 17,
   "metadata": {
    "tags": []
   },
   "outputs": [],
   "source": [
    "#### create a list of captions corresponding to a particular image ######\n",
    "\n",
    "image_to_caption = defaultdict(list)\n",
    "\n",
    "for image, caption in zip(images, captions):\n",
    "    _image = image.replace(\".jpg\", \"\").strip()\n",
    "    image_to_caption[_image].append(caption)\n",
    "\n",
    "\n"
   ]
  },
  {
   "cell_type": "code",
   "execution_count": null,
   "metadata": {},
   "outputs": [],
   "source": []
  },
  {
   "cell_type": "code",
   "execution_count": null,
   "metadata": {},
   "outputs": [],
   "source": []
  }
 ]
}